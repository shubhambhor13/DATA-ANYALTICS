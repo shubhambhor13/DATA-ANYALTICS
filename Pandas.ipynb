{
 "cells": [
  {
   "cell_type": "code",
   "execution_count": 1,
   "metadata": {},
   "outputs": [
    {
     "name": "stdout",
     "output_type": "stream",
     "text": [
      "Series([], dtype: float64)\n"
     ]
    }
   ],
   "source": [
    "import pandas as pd\n",
    "s = pd.Series()\n",
    "print(s)"
   ]
  },
  {
   "cell_type": "code",
   "execution_count": 2,
   "metadata": {},
   "outputs": [
    {
     "name": "stdout",
     "output_type": "stream",
     "text": [
      "Numpy data Representation \n",
      " ['a' 'b' 'c' 'd'] \n",
      "\n",
      "Pandas Series Representation \n",
      " 0    a\n",
      "1    b\n",
      "2    c\n",
      "3    d\n",
      "dtype: object \n",
      "\n"
     ]
    }
   ],
   "source": [
    "import pandas as pd\n",
    "import numpy as np\n",
    "list1 = ['a', 'b', 'c', 'd']\n",
    "data = np.array(list1)\n",
    "s = pd.Series(data)\n",
    "\n",
    "print(\"Numpy data Representation \\n\",data , \"\\n\")\n",
    "\n",
    "print(\"Pandas Series Representation \\n\", s, \"\\n\")"
   ]
  },
  {
   "cell_type": "code",
   "execution_count": 4,
   "metadata": {},
   "outputs": [
    {
     "name": "stdout",
     "output_type": "stream",
     "text": [
      "100    a\n",
      "101    b\n",
      "102    c\n",
      "103    d\n",
      "dtype: object\n"
     ]
    }
   ],
   "source": [
    "import pandas as pd\n",
    "import numpy as np\n",
    "list1 = ['a', 'b', 'c', 'd']\n",
    "data = np.array(list1)\n",
    "s = pd.Series(data,index=[100,101,102,103])\n",
    "\n",
    "print(s)"
   ]
  },
  {
   "cell_type": "code",
   "execution_count": 5,
   "metadata": {},
   "outputs": [
    {
     "name": "stdout",
     "output_type": "stream",
     "text": [
      "b    1.0\n",
      "c    2.0\n",
      "d    NaN\n",
      "a    0.0\n",
      "dtype: float64\n"
     ]
    }
   ],
   "source": [
    "import pandas as pd\n",
    "\n",
    "data = {'a' : 0., 'b' : 1., 'c' : 2.}\n",
    "s = pd.Series(data,index=['b', 'c', 'd', 'a'])\n",
    "print (s)\n",
    "\n"
   ]
  },
  {
   "cell_type": "code",
   "execution_count": 7,
   "metadata": {},
   "outputs": [
    {
     "name": "stdout",
     "output_type": "stream",
     "text": [
      "Harshada\n"
     ]
    }
   ],
   "source": [
    "print(\"Harshada\")"
   ]
  },
  {
   "cell_type": "code",
   "execution_count": 5,
   "metadata": {},
   "outputs": [
    {
     "name": "stdout",
     "output_type": "stream",
     "text": [
      "0   NaN\n",
      "1   NaN\n",
      "2   NaN\n",
      "3   NaN\n",
      "4   NaN\n",
      "8   NaN\n",
      "dtype: float64\n"
     ]
    }
   ],
   "source": [
    "import pandas as pd\n",
    "s = pd.Series(None, index=[0,1,2,3,4,8,])\n",
    "print (s)"
   ]
  },
  {
   "cell_type": "code",
   "execution_count": 1,
   "metadata": {},
   "outputs": [
    {
     "name": "stdout",
     "output_type": "stream",
     "text": [
      "a    0\n",
      "b    1\n",
      "c    2\n",
      "dtype: int64\n"
     ]
    }
   ],
   "source": [
    "import pandas as pd\n",
    "s= pd.Series([0,1,2,3,8],index=['a','b','c','d','e'])\n",
    "\n",
    "print (s[:3])"
   ]
  },
  {
   "cell_type": "code",
   "execution_count": 2,
   "metadata": {},
   "outputs": [
    {
     "name": "stdout",
     "output_type": "stream",
     "text": [
      "c    2\n",
      "d    3\n",
      "e    8\n",
      "dtype: int64\n"
     ]
    }
   ],
   "source": [
    "import pandas as pd\n",
    "s= pd.Series([0,1,2,3,8],index=['a','b','c','d','e'])\n",
    "print (s[-3:])"
   ]
  },
  {
   "cell_type": "code",
   "execution_count": 3,
   "metadata": {},
   "outputs": [
    {
     "name": "stdout",
     "output_type": "stream",
     "text": [
      "1 2 5\n"
     ]
    }
   ],
   "source": [
    "import pandas as pd\n",
    "s= pd.Series([1,2,3,4,5],index=['a','b','c','d','e'])\n",
    "\n",
    "print (s['a'],s['b'],s['e'])"
   ]
  },
  {
   "cell_type": "code",
   "execution_count": 4,
   "metadata": {},
   "outputs": [
    {
     "name": "stdout",
     "output_type": "stream",
     "text": [
      "1 2 5\n",
      "8\n"
     ]
    }
   ],
   "source": [
    "import pandas as pd\n",
    "s= pd.Series([1,2,3,4,5],index=['a','b','c','d','e'])\n",
    "\n",
    "print (s['a'],s['b'],s['e'])\n",
    "\n",
    "mult1 =s['d'] * s['b']\n",
    "print(mult1)"
   ]
  },
  {
   "cell_type": "code",
   "execution_count": 5,
   "metadata": {
    "scrolled": true
   },
   "outputs": [
    {
     "name": "stdout",
     "output_type": "stream",
     "text": [
      "a    1\n",
      "b    2\n",
      "c    3\n",
      "d    4\n",
      "e    5\n",
      "dtype: int64\n",
      "a    1\n",
      "b    2\n",
      "c    3\n",
      "d    4\n",
      "dtype: int64\n"
     ]
    }
   ],
   "source": [
    "import pandas as pd\n",
    "s= pd.Series([1,2,3,4,5],index=['a','b','c','d','e'])\n",
    "print(s)\n",
    "\n",
    "print (s[['a','b','c','d']])"
   ]
  },
  {
   "cell_type": "code",
   "execution_count": 6,
   "metadata": {},
   "outputs": [
    {
     "name": "stdout",
     "output_type": "stream",
     "text": [
      "Empty DataFrame\n",
      "Columns: []\n",
      "Index: []\n"
     ]
    }
   ],
   "source": [
    "import pandas as pd\n",
    "df = pd.DataFrame()\n",
    "print (df)"
   ]
  },
  {
   "cell_type": "code",
   "execution_count": 7,
   "metadata": {},
   "outputs": [
    {
     "name": "stdout",
     "output_type": "stream",
     "text": [
      "0    1\n",
      "1    2\n",
      "2    3\n",
      "3    4\n",
      "4    5\n",
      "dtype: int64\n",
      "   0\n",
      "0  1\n",
      "1  2\n",
      "2  3\n",
      "3  4\n",
      "4  5\n"
     ]
    }
   ],
   "source": [
    "import pandas as pd\n",
    "data = [1,2,3,4,5]\n",
    "sf = pd.Series(data)\n",
    "df = pd.DataFrame(data)\n",
    "print (sf)\n",
    "print (df)"
   ]
  },
  {
   "cell_type": "code",
   "execution_count": 8,
   "metadata": {},
   "outputs": [
    {
     "name": "stdout",
     "output_type": "stream",
     "text": [
      "     Name  Age\n",
      "0    Alex   10\n",
      "1     Bob   12\n",
      "2  Clarke   13\n"
     ]
    }
   ],
   "source": [
    "import pandas as pd\n",
    "data = [['Alex',10],['Bob',12],['Clarke',13]]\n",
    "df = pd.DataFrame(data,columns=['Name','Age'])\n",
    "print (df)i"
   ]
  },
  {
   "cell_type": "code",
   "execution_count": 9,
   "metadata": {},
   "outputs": [
    {
     "name": "stdout",
     "output_type": "stream",
     "text": [
      "        0     1\n",
      "0    Alex  10.0\n",
      "1     Bob  12.0\n",
      "2  Clarke  13.0\n"
     ]
    }
   ],
   "source": [
    "import pandas as pd\n",
    "data = [['Alex',10],['Bob',12],['Clarke',13]]\n",
    "df = pd.DataFrame(data,dtype=float)\n",
    "print (df)"
   ]
  },
  {
   "cell_type": "code",
   "execution_count": 10,
   "metadata": {},
   "outputs": [
    {
     "name": "stdout",
     "output_type": "stream",
     "text": [
      "    Name  Age\n",
      "0    Tom   28\n",
      "1   Jack   34\n",
      "2  Steve   29\n",
      "3  Ricky   42\n"
     ]
    }
   ],
   "source": [
    "import pandas as pd\n",
    "data = {'Name':['Tom','Jack','Steve','Ricky'],\n",
    "'Age':[28,34,29,42]}        \n",
    "df = pd.DataFrame(data)\n",
    "print (df)"
   ]
  },
  {
   "cell_type": "code",
   "execution_count": 11,
   "metadata": {},
   "outputs": [
    {
     "name": "stdout",
     "output_type": "stream",
     "text": [
      "           Name  Age\n",
      "rank1       Tom   28\n",
      "rank2     Jerry   34\n",
      "rank3      Oggy   29\n",
      "rank4  Doreamon   42\n"
     ]
    }
   ],
   "source": [
    "import pandas as pd\n",
    "data = {'Name': ['Tom', 'Jerry', ' Oggy', 'Doreamon'],\n",
    "'Age':[28,34,29,42]}\n",
    "df = pd.DataFrame(data,index=['rank1','rank2','rank3','rank4'])\n",
    "print (df)"
   ]
  },
  {
   "cell_type": "code",
   "execution_count": 12,
   "metadata": {},
   "outputs": [
    {
     "name": "stdout",
     "output_type": "stream",
     "text": [
      "   a    b     c\n",
      "0  1  2.0   NaN\n",
      "1  5  NaN  20.0\n"
     ]
    }
   ],
   "source": [
    "import pandas as pd \n",
    "data = [{'a':1, 'b':2},{'a':5, 'c':20}]\n",
    "df =pd.DataFrame(data)\n",
    "print (df)"
   ]
  },
  {
   "cell_type": "code",
   "execution_count": 13,
   "metadata": {},
   "outputs": [
    {
     "name": "stdout",
     "output_type": "stream",
     "text": [
      "        a   b     c\n",
      "first   1   2   NaN\n",
      "second  5  10  20.0\n"
     ]
    }
   ],
   "source": [
    "import pandas as pd \n",
    "data = [{'a':1, 'b':2},\n",
    "{'a':5, 'b':10,'c':20 }]\n",
    "df =pd.DataFrame(data,index=['first','second'])\n",
    "print (df)"
   ]
  },
  {
   "cell_type": "code",
   "execution_count": 14,
   "metadata": {},
   "outputs": [
    {
     "name": "stdout",
     "output_type": "stream",
     "text": [
      "        a   b\n",
      "first   1   2\n",
      "second  5  10\n",
      "\n",
      "\n",
      "        a  b1\n",
      "first   1 NaN\n",
      "second  5 NaN\n"
     ]
    }
   ],
   "source": [
    "import pandas as pd \n",
    "\n",
    "data = [{'a':1, 'b':2},\n",
    "{'a':5, 'b':10,'c':20 }]\n",
    "df1 =pd.DataFrame(data,index=['first','second'], columns=['a','b'])\n",
    "df2 =pd.DataFrame(data,index=['first','second'], columns=['a','b1'])\n",
    "print (df1)\n",
    "print (\"\\n\")\n",
    "print (df2)"
   ]
  },
  {
   "cell_type": "code",
   "execution_count": 15,
   "metadata": {},
   "outputs": [
    {
     "name": "stdout",
     "output_type": "stream",
     "text": [
      "   one  two\n",
      "a  1.0    1\n",
      "b  2.0    2\n",
      "c  3.0    3\n",
      "d  NaN    4\n"
     ]
    }
   ],
   "source": [
    "import pandas as pd \n",
    "d = {'one' : pd.Series([1,2,3], index=['a','b','c']),\n",
    "     'two' :pd.Series([1,2,3,4], index=['a','b','c','d'])}\n",
    "df =pd.DataFrame(d)\n",
    "print (df)"
   ]
  },
  {
   "cell_type": "code",
   "execution_count": 16,
   "metadata": {},
   "outputs": [
    {
     "name": "stdout",
     "output_type": "stream",
     "text": [
      "   one  two\n",
      "a  1.0    1\n",
      "b  2.0    2\n",
      "c  3.0    3\n",
      "d  NaN    4\n",
      "a    1.0\n",
      "b    2.0\n",
      "c    3.0\n",
      "d    NaN\n",
      "Name: one, dtype: float64\n"
     ]
    }
   ],
   "source": [
    "import pandas as pd \n",
    "d = {'one' : pd.Series([1,2,3], index=['a','b','c']),\n",
    "     'two' :pd.Series([1,2,3,4], index=['a','b','c','d'])}\n",
    "df =pd.DataFrame(d)\n",
    "print (df)\n",
    "print (df ['one'])"
   ]
  },
  {
   "cell_type": "code",
   "execution_count": 19,
   "metadata": {},
   "outputs": [
    {
     "name": "stdout",
     "output_type": "stream",
     "text": [
      "Adding a new column by passing as Series:\n",
      "   one  two  three\n",
      "a  1.0    1   10.0\n",
      "b  2.0    2   20.0\n",
      "c  3.0    3   30.0\n",
      "d  NaN    4    NaN\n",
      "Adding a new column using the existing columns in DataFrame:\n",
      "   one  two  three  four\n",
      "a  1.0    1   10.0  11.0\n",
      "b  2.0    2   20.0  22.0\n",
      "c  3.0    3   30.0  33.0\n",
      "d  NaN    4    NaN   NaN\n"
     ]
    }
   ],
   "source": [
    "import pandas as pd \n",
    "d = {'one' : pd.Series([1,2,3], index=['a','b','c']),\n",
    "     'two' :pd.Series([1,2,3,4], index=['a','b','c','d'])}\n",
    "df =pd.DataFrame(d)\n",
    "print(\"Adding a new column by passing as Series:\")\n",
    "df['three']=pd.Series([10,20,30],index=['a','b','c'])\n",
    "print (df)\n",
    "print (\"Adding a new column using the existing columns in DataFrame:\")\n",
    "df['four']=df['one']+df['three']\n",
    "print(df)\n"
   ]
  },
  {
   "cell_type": "code",
   "execution_count": 22,
   "metadata": {},
   "outputs": [
    {
     "name": "stdout",
     "output_type": "stream",
     "text": [
      "our data frame is\n",
      "   one  two  three\n",
      "a  1.0    1   10.0\n",
      "b  2.0    2   20.0\n",
      "c  3.0    3   30.0\n",
      "d  NaN    4    NaN\n",
      "Deleting the first column using DEL function\n",
      "   two  three\n",
      "a    1   10.0\n",
      "b    2   20.0\n",
      "c    3   30.0\n",
      "d    4    NaN\n",
      "delete another column using POP function:\n",
      "   three\n",
      "a   10.0\n",
      "b   20.0\n",
      "c   30.0\n",
      "d    NaN\n"
     ]
    }
   ],
   "source": [
    "import pandas as pd \n",
    "d = {'one' : pd.Series([1,2,3], index=['a','b','c']),\n",
    "     'two' :pd.Series([1,2,3,4], index=['a','b','c','d']),\n",
    "    'three':pd.Series([10,20,30], index=['a','b','c'])}\n",
    "df =pd.DataFrame(d)\n",
    "print(\"our data frame is\")\n",
    "print(df)\n",
    "print ('Deleting the first column using DEL function')\n",
    "del df['one']\n",
    "print(df)\n",
    "print(\"delete another column using POP function:\")\n",
    "df.pop('two')\n",
    "print (df)"
   ]
  },
  {
   "cell_type": "code",
   "execution_count": null,
   "metadata": {},
   "outputs": [],
   "source": []
  },
  {
   "cell_type": "code",
   "execution_count": null,
   "metadata": {},
   "outputs": [],
   "source": []
  }
 ],
 "metadata": {
  "kernelspec": {
   "display_name": "Python 3",
   "language": "python",
   "name": "python3"
  },
  "language_info": {
   "codemirror_mode": {
    "name": "ipython",
    "version": 3
   },
   "file_extension": ".py",
   "mimetype": "text/x-python",
   "name": "python",
   "nbconvert_exporter": "python",
   "pygments_lexer": "ipython3",
   "version": "3.7.0"
  }
 },
 "nbformat": 4,
 "nbformat_minor": 2
}
