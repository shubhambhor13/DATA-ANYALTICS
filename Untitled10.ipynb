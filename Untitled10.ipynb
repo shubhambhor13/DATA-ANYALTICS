{
 "cells": [
  {
   "cell_type": "code",
   "execution_count": 6,
   "metadata": {},
   "outputs": [],
   "source": [
    "list1 = ['physics','chemistry',1997,2000];\n",
    "\n",
    "list2 = [1,2,3,4,5]\n",
    "\n",
    "list3 = [\"a\",\"b\",\"c\",\"d\"];"
   ]
  },
  {
   "cell_type": "code",
   "execution_count": 8,
   "metadata": {},
   "outputs": [
    {
     "name": "stdout",
     "output_type": "stream",
     "text": [
      "['physics', 'chemistry', 1997]\n",
      "[3, 4]\n",
      "First list lenght : 4\n",
      "Second list lenght : 5\n",
      "5\n",
      "['physics', 'chemistry', 1997, 2000]\n",
      "['physics', 'chemistry', 1997]\n"
     ]
    }
   ],
   "source": [
    "list1 = ['physics' , 'chemistry', 1997 , 2000];\n",
    "list2 = [1, 2, 3, 4 ,5 ];\n",
    "list3 = [\"a\", \"b\", \"c\", \"d\"];\n",
    "\n",
    "print(list1[0:3])\n",
    "print(list2[-3:-1])\n",
    "\n",
    "print (\"First list lenght :\" , len(list1));\n",
    "print (\"Second list lenght :\" , len(list2));\n",
    "print (max(list2))\n",
    "\n",
    "print (list1)\n",
    "list1.pop()\n",
    "print (list1)\n",
    "\n"
   ]
  },
  {
   "cell_type": "code",
   "execution_count": null,
   "metadata": {},
   "outputs": [],
   "source": []
  }
 ],
 "metadata": {
  "kernelspec": {
   "display_name": "Python 3",
   "language": "python",
   "name": "python3"
  },
  "language_info": {
   "codemirror_mode": {
    "name": "ipython",
    "version": 3
   },
   "file_extension": ".py",
   "mimetype": "text/x-python",
   "name": "python",
   "nbconvert_exporter": "python",
   "pygments_lexer": "ipython3",
   "version": "3.7.0"
  }
 },
 "nbformat": 4,
 "nbformat_minor": 2
}
